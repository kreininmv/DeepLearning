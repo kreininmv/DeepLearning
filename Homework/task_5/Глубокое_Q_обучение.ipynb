{
  "cells": [
    {
      "cell_type": "markdown",
      "metadata": {
        "id": "CT1RqMFLPpnT"
      },
      "source": [
        "# Глубокая Q-сеть, вариант многослойного перцептрона 5 баллов\n",
        "\n",
        "#### дедлайн задания: 24 ноября 23:59\n",
        "\n",
        "В данной домашней работе требуется реализовать DQN &mdash; приближённый алгоритм Q-обучения c механизмом _experience_ _replay_ и целевой сетью (_target network_) &mdash; и пронаблюдать, лучше ли подход DQN работает по сравнению с рассмотренными ранее в каком-либо аспекте.\n",
        "\n",
        "Исходная статья:\n",
        "https://arxiv.org/pdf/1312.5602.pdf\n",
        "\n",
        "Конспект теории по глубокому Q-обучению:\n",
        "https://arxiv.org/pdf/2201.09746.pdf (главы 4.1 и 4.2)"
      ]
    },
    {
      "cell_type": "markdown",
      "metadata": {
        "id": "DbNDY3TSPpnV"
      },
      "source": [
        "# Работа выполнена: Крейнин Матвей Вадимович, Б05-003."
      ]
    },
    {
      "cell_type": "markdown",
      "metadata": {
        "id": "Tza0Cee0PpnW"
      },
      "source": [
        "В данном задании требуется обучить агента в среде CartPole. По идее, процесс обучения должен занять несколько десятков минут."
      ]
    },
    {
      "cell_type": "code",
      "source": [
        "!pip install gym"
      ],
      "metadata": {
        "colab": {
          "base_uri": "https://localhost:8080/"
        },
        "id": "3_L0-a0cPsly",
        "outputId": "70d59bc3-34b9-4c35-fdb6-a5551bb67819"
      },
      "execution_count": 1,
      "outputs": [
        {
          "output_type": "stream",
          "name": "stdout",
          "text": [
            "Requirement already satisfied: gym in /usr/local/lib/python3.10/dist-packages (0.25.2)\n",
            "Requirement already satisfied: numpy>=1.18.0 in /usr/local/lib/python3.10/dist-packages (from gym) (1.23.5)\n",
            "Requirement already satisfied: cloudpickle>=1.2.0 in /usr/local/lib/python3.10/dist-packages (from gym) (2.2.1)\n",
            "Requirement already satisfied: gym-notices>=0.0.4 in /usr/local/lib/python3.10/dist-packages (from gym) (0.0.8)\n"
          ]
        }
      ]
    },
    {
      "cell_type": "code",
      "execution_count": 2,
      "metadata": {
        "id": "tNim30x1PpnY"
      },
      "outputs": [],
      "source": [
        "import gym\n",
        "import random\n",
        "import numpy as np\n",
        "import matplotlib.pyplot as plt\n",
        "import torch\n",
        "import utils\n",
        "from IPython.display import HTML\n",
        "import os"
      ]
    },
    {
      "cell_type": "markdown",
      "metadata": {
        "id": "95LIOcSCPpna"
      },
      "source": [
        "### CartPole, снова"
      ]
    },
    {
      "cell_type": "code",
      "execution_count": 3,
      "metadata": {
        "colab": {
          "base_uri": "https://localhost:8080/"
        },
        "id": "220l6zgqPpna",
        "outputId": "4b1a23b0-0137-4f82-bf53-9d570cdba1da"
      },
      "outputs": [
        {
          "output_type": "stream",
          "name": "stderr",
          "text": [
            "/usr/local/lib/python3.10/dist-packages/ipykernel/ipkernel.py:283: DeprecationWarning: `should_run_async` will not call `transform_cell` automatically in the future. Please pass the result to `transformed_cell` argument and any exception that happen during thetransform in `preprocessing_exc_tuple` in IPython 7.17 and above.\n",
            "  and should_run_async(code)\n"
          ]
        }
      ],
      "source": [
        "ENV_NAME = \"CartPole-v1\"\n",
        "\n",
        "\n",
        "# нужно потому что в новой версии нельзя просто так передать seed\n",
        "class reset_seed_wrapper(gym.Wrapper):\n",
        "    def __init__(self, env, seed):\n",
        "        super().__init__(env)\n",
        "        self.seed = seed\n",
        "    def reset(self):\n",
        "        return self.env.reset(seed= self.seed)[0] # откидываем ненужное\n",
        "    def step(self, action):\n",
        "        s, r, done, info, _ = self.env.step(action, )\n",
        "        return s, r, done, info\n",
        "def make_env(seed=None):\n",
        "    # CartPole обёрнут в time limit wrapper по умолчанию\n",
        "    env = gym.make(ENV_NAME).unwrapped\n",
        "    if seed is not None:\n",
        "        env.seed(seed)\n",
        "    return env\n",
        "\n"
      ]
    },
    {
      "cell_type": "code",
      "execution_count": 4,
      "metadata": {
        "colab": {
          "base_uri": "https://localhost:8080/"
        },
        "id": "i-ozYxWSPpna",
        "outputId": "7e5d6f03-6f3f-4838-9034-ae1160e960ef"
      },
      "outputs": [
        {
          "output_type": "stream",
          "name": "stderr",
          "text": [
            "/usr/local/lib/python3.10/dist-packages/gym/core.py:317: DeprecationWarning: \u001b[33mWARN: Initializing wrapper in old step API which returns one bool instead of two. It is recommended to set `new_step_api=True` to use new step API. This will be the default behaviour in future.\u001b[0m\n",
            "  deprecation(\n",
            "/usr/local/lib/python3.10/dist-packages/gym/wrappers/step_api_compatibility.py:39: DeprecationWarning: \u001b[33mWARN: Initializing environment in old step API which returns one bool instead of two. It is recommended to set `new_step_api=True` to use new step API. This will be the default behaviour in future.\u001b[0m\n",
            "  deprecation(\n"
          ]
        },
        {
          "output_type": "execute_result",
          "data": {
            "text/plain": [
              "array([0.01073495, 0.03501317, 0.04160246, 0.03576212], dtype=float32)"
            ]
          },
          "metadata": {},
          "execution_count": 4
        }
      ],
      "source": [
        "env = make_env()\n",
        "state = env.reset()\n",
        "state"
      ]
    },
    {
      "cell_type": "code",
      "execution_count": 5,
      "metadata": {
        "colab": {
          "base_uri": "https://localhost:8080/"
        },
        "id": "lip9evjyPpnb",
        "outputId": "76bf23f7-c830-42bc-b2e4-46397c790a05"
      },
      "outputs": [
        {
          "output_type": "execute_result",
          "data": {
            "text/plain": [
              "(4,)"
            ]
          },
          "metadata": {},
          "execution_count": 5
        }
      ],
      "source": [
        "state_shape = env.observation_space.shape\n",
        "state_shape"
      ]
    },
    {
      "cell_type": "code",
      "execution_count": 6,
      "metadata": {
        "colab": {
          "base_uri": "https://localhost:8080/"
        },
        "id": "HM2tgtqHPpnb",
        "outputId": "2e67de3f-5780-47ac-c7f0-ce6b5b78d7cf"
      },
      "outputs": [
        {
          "output_type": "execute_result",
          "data": {
            "text/plain": [
              "2"
            ]
          },
          "metadata": {},
          "execution_count": 6
        }
      ],
      "source": [
        "n_actions = env.action_space.n\n",
        "n_actions"
      ]
    },
    {
      "cell_type": "markdown",
      "metadata": {
        "id": "UDOZ_0dkPpnb"
      },
      "source": [
        "1. Позиция тележки - значение в диапазоне [-4.8; -4.8]\n",
        "2. Скорость тележки\n",
        "3. Угол отклонения шеста от вертикали - начение в диапазоне [-24; 24] градуса.\n",
        "4. Скорость изменения угла наклона шеста"
      ]
    },
    {
      "cell_type": "markdown",
      "metadata": {
        "id": "jrKd4SuaPpnc"
      },
      "source": [
        "# Приближённое Q-обучение: построение сети\n",
        "\n",
        "Теперь требуется построить нейронную сеть, способную отображать наблюдения в Q-ценности состояния. Так как происходит работа с предобработанными признаками (положения тележки, углы и скорости), то не требуется сложная нейронная сеть пока. Фактически, нужно построить нейронную сеть с архитектурой, обозначенной снизу:\n",
        "\n",
        "<img src=https://raw.githubusercontent.com/yandexdataschool/Practical_RL/master/yet_another_week/_resource/qlearning_scheme.png width=640>\n",
        "\n",
        "В идеале рекомендуется начать с небольших 1-2 скрытых слоёв с < 200 нейронов и затем увеличить размер сети, если агент не может получить целевую награду. Батч-нормализация и дропаут здесь могут всё испортить. Также рекомендуется избегать использование таких нелинейностей, как функция сигмоиды и гиперболического тангенса: наблюдения агента не нормализованы, так что сигмоиды могут концентрироваться у нуля."
      ]
    },
    {
      "cell_type": "code",
      "execution_count": 7,
      "metadata": {
        "colab": {
          "base_uri": "https://localhost:8080/"
        },
        "id": "A_3v10XZPpnc",
        "outputId": "4597031b-bcab-4426-9058-ed0f500950b7"
      },
      "outputs": [
        {
          "output_type": "execute_result",
          "data": {
            "text/plain": [
              "device(type='cpu')"
            ]
          },
          "metadata": {},
          "execution_count": 7
        }
      ],
      "source": [
        "import torch\n",
        "import torch.nn as nn\n",
        "\n",
        "device = torch.device(\"cuda\" if torch.cuda.is_available() else \"cpu\")\n",
        "# те, кто имеют GPU, но не хотят использовать графический вычислитель, могут раскомментировать:\n",
        "# device = torch.device('cpu')\n",
        "device"
      ]
    },
    {
      "cell_type": "code",
      "execution_count": 8,
      "metadata": {
        "id": "8JFUZyIjPpnc"
      },
      "outputs": [],
      "source": [
        "class DQNAgent(nn.Module):\n",
        "    def __init__(self, state_shape, n_actions, epsilon=0):\n",
        "\n",
        "        super().__init__()\n",
        "        self.epsilon = epsilon\n",
        "        self.n_actions = n_actions\n",
        "        self.state_shape = state_shape\n",
        "        # Задайте структуру нейронной сети здесь.\n",
        "        # Убедитесь в том, что здесь определёны все параметры агента.\n",
        "        assert len(state_shape) == 1\n",
        "        state_dim = state_shape[0]\n",
        "\n",
        "        self.linear1 = nn.Linear(self.state_shape[0], 256)\n",
        "        self.relu = nn.ReLU()\n",
        "        self.linear2 = nn.Linear(256, 128)\n",
        "        self.linear3 = nn.Linear(128, self.n_actions)\n",
        "\n",
        "\n",
        "    def forward(self, state_t):\n",
        "        \"\"\"\n",
        "        принимает наблюдение агента (тензор), возвращает qvalues (тензор)\n",
        "        :параметр state_t: батч состояний, размерность = [batch_size, *state_dim=4]\n",
        "        \"\"\"\n",
        "        # Используйте Вашу нейросеть для вычисления qvalues данного состояния state_t\n",
        "        qvalues = self.relu(self.linear1(state_t))\n",
        "        qvalues = self.relu(self.linear2(qvalues))\n",
        "        qvalues = self.linear3(qvalues)\n",
        "\n",
        "        assert qvalues.requires_grad, \"qvalues должны быть torch tensor с возможностью дифференцирования\"\n",
        "        assert len(\n",
        "            qvalues.shape) == 2 and qvalues.shape[0] == state_t.shape[0] and qvalues.shape[1] == n_actions\n",
        "\n",
        "        return qvalues\n",
        "\n",
        "    def get_qvalues(self, states):\n",
        "        \"\"\"\n",
        "        Как forward, только работает на numpy arrays, не на тензорах\n",
        "        \"\"\"\n",
        "        model_device = next(self.parameters()).device\n",
        "        states = torch.tensor(states, device=model_device, dtype=torch.float32)\n",
        "        qvalues = self.forward(states)\n",
        "        return qvalues.data.cpu().numpy()\n",
        "\n",
        "    def sample_actions(self, qvalues):\n",
        "        \"\"\"Выбрать действия для данных qvalues. Использует эпсилон-жадную стратегию исследования среды.\"\"\"\n",
        "        epsilon = self.epsilon\n",
        "        batch_size, n_actions = qvalues.shape\n",
        "\n",
        "        random_actions = np.random.choice(n_actions, size=batch_size)\n",
        "        best_actions = qvalues.argmax(axis=-1)\n",
        "\n",
        "        should_explore = np.random.choice(\n",
        "            [0, 1], batch_size, p=[1-epsilon, epsilon])\n",
        "        return np.where(should_explore, random_actions, best_actions)"
      ]
    },
    {
      "cell_type": "code",
      "execution_count": 9,
      "metadata": {
        "id": "zpUKvRF2Ppnc"
      },
      "outputs": [],
      "source": [
        "agent = DQNAgent(state_shape, n_actions, epsilon=0.5).to(device)"
      ]
    },
    {
      "cell_type": "markdown",
      "metadata": {
        "id": "lQktwKhUPpnd"
      },
      "source": [
        "Теперь давайте проверим нашего агента на предмет наличия ошибок."
      ]
    },
    {
      "cell_type": "code",
      "execution_count": 12,
      "metadata": {
        "id": "lHfB9KYfPpnd"
      },
      "outputs": [],
      "source": [
        "def evaluate(env, agent, n_games=1, greedy=False, t_max=10000):\n",
        "    \"\"\"Играет qvalues полных эпизодов. Если greedy=True, то действия берутся из детерминированной\n",
        "    стратегии как argmax(qvalues). Возвращает среднюю награду.\"\"\"\n",
        "    rewards = []\n",
        "    for _ in range(n_games):\n",
        "        s = env.reset()\n",
        "        reward = 0\n",
        "        for _ in range(t_max):\n",
        "            qvalues = agent.get_qvalues([s])\n",
        "            action = (\n",
        "                qvalues.argmax(axis=-1)[0]\n",
        "                if greedy\n",
        "                else agent.sample_actions(qvalues)[0]\n",
        "            )\n",
        "            s, r, done, info, _ = env.step(action)\n",
        "            reward += r\n",
        "            if done:\n",
        "                break\n",
        "\n",
        "        rewards.append(reward)\n",
        "    env.close()\n",
        "    return np.mean(rewards)"
      ]
    },
    {
      "cell_type": "code",
      "execution_count": 18,
      "metadata": {
        "colab": {
          "base_uri": "https://localhost:8080/"
        },
        "id": "LyxKdaiPPpnd",
        "outputId": "f71323e3-bced-400e-866b-8ab59021d7ce"
      },
      "outputs": [
        {
          "output_type": "execute_result",
          "data": {
            "text/plain": [
              "15.0"
            ]
          },
          "metadata": {},
          "execution_count": 18
        }
      ],
      "source": [
        "evaluate(env, agent, n_games=1)"
      ]
    },
    {
      "cell_type": "markdown",
      "metadata": {
        "id": "zeywpLmTPpnd"
      },
      "source": [
        "# Experience Replay\n",
        "Сущетвует мощный метод, который можно использовать для улучшения сходимости _off-policy_ алгоритмов относительно общего количества используемых сэмплов: _Experience_ _Replay_. Смысл состоит в том, что появляется возможность настроить агента с помощью Q-обучения и EV-SARSA на кортежах `<s,a,r,s'>`, даже если они не сэмплированы из текущей политики агента. Итак, здесь требуется реализовать следующее:\n",
        "\n",
        "<img src=https://github.com/yandexdataschool/Practical_RL/raw/master/yet_another_week/_resource/exp_replay.png width=640>\n",
        "\n",
        "#### Обучение с experience replay\n",
        "1. Сыграть шаг игры, отсэмплировать `<s,a,r,s'>`.\n",
        "2. Обновить q-values на основе `<s,a,r,s'>`.\n",
        "3. Записать `<s,a,r,s'>` в буфер.\n",
        " 3. Если буфер полный, то удалить ранние данные.\n",
        "4. Сэмплировать K таких переходов из данного буфера и обновить q-values на их основе.\n",
        "\n",
        "#### Интерфейс довольно простой:\n",
        "* `exp_replay.add(obs, act, rw, next_obs, done)`  &mdash; сохраняет кортеж (s,a,r,s',done) в буфер\n",
        "* `exp_replay.sample(batch_size)` &mdash; возвращает наблюдения, действия, награды, следующие наблюдения и is_done для `batch_size` случайных сэмплов.\n",
        "* `len(exp_replay)` &mdash; возвращает количество элиментов, хранящихся в буфере на данный момент.\n",
        "\n",
        "\n",
        "Для применения такого обучения требуется, во-первых, реализация структуры памяти, которая будет работать как буфер."
      ]
    },
    {
      "cell_type": "code",
      "execution_count": 19,
      "metadata": {
        "id": "iB73jf5TPpnd"
      },
      "outputs": [],
      "source": [
        "class ReplayBuffer(object):\n",
        "    def __init__(self, size):\n",
        "        \"\"\"\n",
        "        Создаёт буфер реплеев.\n",
        "        Параметры\n",
        "        ----------\n",
        "        size: int\n",
        "            Максимальное количество хранящихся единовременно переходов. При переполнении буфера старые\n",
        "            записи удаляются.\n",
        "\n",
        "        Замечание: для данного задания можно выбрать любую структуру данных.\n",
        "              Если Вам достаточно простого решения, то можно просто хранить список кортежей (s, a, r, s')\n",
        "              в self._storage. Однако, можно найти более быстрые и/или эффективные по памяти способы\n",
        "              реализации самого хранения переходов.\n",
        "        \"\"\"\n",
        "        self._storage = []\n",
        "        self._maxsize = size\n",
        "\n",
        "    def __len__(self):\n",
        "        return len(self._storage)\n",
        "\n",
        "    def add(self, obs_t, action, reward, obs_tp1, done):\n",
        "        '''\n",
        "        Убедитесь, что _storage не превзойдёт по размерам _maxsize.\n",
        "        Убедитесь, что FIFO правило выполняется: старейшие прецеденты должны удаляться раньше всех.\n",
        "        '''\n",
        "        data = (obs_t, action, reward, obs_tp1, done)\n",
        "        storage = self._storage\n",
        "        maxsize = self._maxsize\n",
        "\n",
        "        # добавить данные в storage\n",
        "        if len(storage) > self._maxsize - 1:\n",
        "            storage.pop(0)\n",
        "        storage.append(data)\n",
        "        self._storage = storage\n",
        "\n",
        "    def sample(self, batch_size):\n",
        "        \"\"\"Сэмплирование батча переходов.\n",
        "        Параметры\n",
        "        ----------\n",
        "        batch_size: int\n",
        "            Сколько переходов сэмплировать.\n",
        "        Возвращает\n",
        "        -------\n",
        "        obs_batch: np.array\n",
        "            батч наблюдений (состояний)\n",
        "        act_batch: np.array\n",
        "            батч действий, выполненных на основе obs_batch\n",
        "        rew_batch: np.array\n",
        "            награды, полученные в качестве результата выполнения act_batch\n",
        "        next_obs_batch: np.array\n",
        "            следующие наблюдения (состояния), полученные после выполнения act_batch\n",
        "        done_mask: np.array\n",
        "            done_mask[i] = 1, если выполнение act_batch[i] повлекло\n",
        "            окончание эпизода и 0 иначе.\n",
        "        \"\"\"\n",
        "        storage = self._storage\n",
        "\n",
        "        indexeses  = np.random.randint(len(storage), size=batch_size)\n",
        "\n",
        "        batch =[[storage[x][y] for x in indexeses] for y in range(5)]\n",
        "\n",
        "        return (np.stack(batch[y], axis = 0) for y in range(5))\n"
      ]
    },
    {
      "cell_type": "code",
      "execution_count": 20,
      "metadata": {
        "id": "1HBE0we6Ppnd"
      },
      "outputs": [],
      "source": [
        "exp_replay = ReplayBuffer(10)\n",
        "\n",
        "for _ in range(30):\n",
        "    exp_replay.add(env.reset(), env.action_space.sample(), 1.0, env.reset(), done=False)\n",
        "\n",
        "obs_batch, act_batch, reward_batch, next_obs_batch, is_done_batch = exp_replay.sample(5)\n",
        "\n",
        "assert (\n",
        "    len(exp_replay) == 10\n",
        "), \"размер буфера должен быть равен 10, потому что это максимальная вместимость\""
      ]
    },
    {
      "cell_type": "code",
      "execution_count": 33,
      "metadata": {
        "colab": {
          "base_uri": "https://localhost:8080/"
        },
        "id": "BcfwF2dRPpne",
        "outputId": "384e20c5-408a-4177-dc04-93294ef674d6"
      },
      "outputs": [
        {
          "output_type": "stream",
          "name": "stderr",
          "text": [
            "/usr/local/lib/python3.10/dist-packages/ipykernel/ipkernel.py:283: DeprecationWarning: `should_run_async` will not call `transform_cell` automatically in the future. Please pass the result to `transformed_cell` argument and any exception that happen during thetransform in `preprocessing_exc_tuple` in IPython 7.17 and above.\n",
            "  and should_run_async(code)\n"
          ]
        }
      ],
      "source": [
        "def play_and_record(initial_state, agent, env, exp_replay, n_steps=1):\n",
        "    \"\"\"\n",
        "    Сыграть в игру n_steps шагов, записать каждый (s,a,r,s', done) в exp_replay буфер.\n",
        "    Как только игра заканчивается, добавляется запись с done=True и среда env перезапускается.\n",
        "    Гарантируетcя, что env находится в состоянии done=False после работы функции.\n",
        "\n",
        "    ПРОСЬБА НЕ ПЕРЕЗАПУСКАТЬ ENV, ПОКА ОНА НЕ В СОСТОЯНИИ \"DONE\"\n",
        "\n",
        "    :возвращает: сумму наград по времени и состояние, в котором среда оказалась\n",
        "    \"\"\"\n",
        "    s = initial_state\n",
        "    sum_rewards = 0\n",
        "\n",
        "    # Сыграть в игру n_steps шагов согласно инструкциям выше\n",
        "    for _ in range(n_steps):\n",
        "        qvalues = agent.get_qvalues([s])\n",
        "        action  = agent.sample_actions(qvalues)[0]\n",
        "        state_new, reward, done, info, _ = env.step(action)\n",
        "        sum_rewards += reward\n",
        "        exp_replay.add(s, action, reward, state_new, done)\n",
        "        s = state_new\n",
        "        if done:\n",
        "            s = env.reset()\n",
        "\n",
        "    return sum_rewards, s"
      ]
    },
    {
      "cell_type": "code",
      "execution_count": 34,
      "metadata": {
        "colab": {
          "base_uri": "https://localhost:8080/"
        },
        "id": "X_tK-qqoPpne",
        "outputId": "a1b3462f-c495-482f-cf83-2b2a46da623f"
      },
      "outputs": [
        {
          "output_type": "stream",
          "name": "stdout",
          "text": [
            "Отлично справились!\n"
          ]
        }
      ],
      "source": [
        "# Протестируйте Ваш код.\n",
        "exp_replay = ReplayBuffer(2000)\n",
        "\n",
        "state = env.reset()\n",
        "play_and_record(state, agent, env, exp_replay, n_steps=1000)\n",
        "\n",
        "# если вы используете собственный experience replay буфер, то некоторые из тестов, возможно, потребуется\n",
        "# скорректировать.\n",
        "# Убедитесь в том, что Вы знаете, что Ваш код делает\n",
        "assert len(exp_replay) == 1000, (\n",
        "    \"play_and_record должна добавить ровно 1000 шагов, \"\n",
        "    \"но вместо этого добавила %i\" % len(exp_replay)\n",
        ")\n",
        "is_dones = list(zip(*exp_replay._storage))[-1]\n",
        "\n",
        "assert 0 < np.mean(is_dones) < 0.1, (\n",
        "    \"Убедитесь, что Вы перезапускаете игру, как только она 'done', и корректно записываете is_done в буфер.\"\n",
        "    \"Получена %f доля is_done за %i шагов. [Если думаете, что Вам не повезло, то просто перезапустите тест.]\"\n",
        "    % (np.mean(is_dones), len(exp_replay))\n",
        ")\n",
        "\n",
        "for _ in range(100):\n",
        "    (\n",
        "        obs_batch,\n",
        "        act_batch,\n",
        "        reward_batch,\n",
        "        next_obs_batch,\n",
        "        is_done_batch,\n",
        "    ) = exp_replay.sample(10)\n",
        "    assert obs_batch.shape == next_obs_batch.shape == (10,) + state_shape\n",
        "    assert act_batch.shape == (\n",
        "        10,\n",
        "    ), \"батч действий должен иметь размер (10,), но имееет %s\" % str(act_batch.shape)\n",
        "    assert reward_batch.shape == (\n",
        "        10,\n",
        "    ), \"батч наград должен иметь размер (10,), но имееет %s\" % str(reward_batch.shape)\n",
        "    assert is_done_batch.shape == (\n",
        "        10,\n",
        "    ), \"батч is_done должен иметь размер (10,), но имееет %s\" % str(is_done_batch.shape)\n",
        "    assert [\n",
        "        int(i) in (0, 1) for i in is_dones\n",
        "    ], \"is_done должен быть строго True или False\"\n",
        "    assert [\n",
        "        0 <= a < n_actions for a in act_batch\n",
        "    ], \"действия должны быть в промежутке [0, n_actions]\"\n",
        "\n",
        "print(\"Отлично справились!\")"
      ]
    },
    {
      "cell_type": "markdown",
      "metadata": {
        "id": "QzvBDSivPpne"
      },
      "source": [
        "# Целевые сети\n",
        "\n",
        "Также будет реализована так называемая \"целевая сеть\" &mdash; копия весов нейронной сети агента, используемая для оценки целевого значения Q-функции:\n",
        "\n",
        "Сама по себе сеть представляет собой точную копию сети агента, но её параметры не обучаются. Наоборот, они берутся из обучаемой сети агента раз в несколько итераций цикла обучения.\n",
        "\n",
        "$$ Q_{reference}(s,a) = r + \\gamma \\cdot \\max _{a'} Q_{target}(s',a') $$\n",
        "\n",
        "<img src=https://github.com/yandexdataschool/Practical_RL/raw/master/yet_another_week/_resource/target_net.png width=480>"
      ]
    },
    {
      "cell_type": "code",
      "execution_count": 23,
      "metadata": {
        "colab": {
          "base_uri": "https://localhost:8080/"
        },
        "id": "WBPKakwHPpne",
        "outputId": "dcd9b75d-60da-4129-9406-f69a47f37efa"
      },
      "outputs": [
        {
          "output_type": "execute_result",
          "data": {
            "text/plain": [
              "<All keys matched successfully>"
            ]
          },
          "metadata": {},
          "execution_count": 23
        }
      ],
      "source": [
        "target_network = DQNAgent(agent.state_shape, agent.n_actions, epsilon=0.5).to(device)\n",
        "# Так можно загружать веса из агента в целевую сеть\n",
        "target_network.load_state_dict(agent.state_dict())"
      ]
    },
    {
      "cell_type": "markdown",
      "metadata": {
        "id": "i-IhWN9RPpne"
      },
      "source": [
        "# Обучение с помощью... Q-обучения\n",
        "Тут будет реализована функция, похожая на `agent.update` из табличного Q-обучения."
      ]
    },
    {
      "cell_type": "markdown",
      "metadata": {
        "id": "xFem-id6Ppne"
      },
      "source": [
        "Вычислить TD ошибку Q-обучения:\n",
        "\n",
        "$$ L = { 1 \\over N} \\sum_i [ Q_{\\theta}(s,a) - Q_{reference}(s,a) ] ^2 $$\n",
        "\n",
        "С $Q_{reference}$, определённой как:\n",
        "\n",
        "$$ Q_{reference}(s,a) = r(s,a) + \\gamma \\cdot max_{a'} Q_{target}(s', a') $$\n",
        "\n",
        "Где\n",
        "* $Q_{target}(s',a')$ обозначает Q-ценность следующего состояния и следующего действия, предсказанного с помощью __target_network__\n",
        "* $s, a, r, s'$ суть текущие состояние, действие, награда и следующее состояние соответственно\n",
        "* $\\gamma$ фактор дисконта, определённый двумя блоками выше.\n",
        "\n",
        "\n",
        "__Замечание 1:__ ниже представлен пример входных данных. Не бойтесь с ним экспериментировать, прежде чем написать непосредственно функцию.\n",
        "\n",
        "__Замечание 2:__ compute_td_loss есть источник приблизительно 99% ошибок в данной домашней работе. Если награда не увеличивается, то часто в подобных случаях помогает построчная отладка с помощью [резиновой утки](https://rubberduckdebugging.com/)."
      ]
    },
    {
      "cell_type": "code",
      "execution_count": 35,
      "metadata": {
        "id": "_NZBk2tAPpnf"
      },
      "outputs": [],
      "source": [
        "def compute_td_loss(states, actions, rewards, next_states, is_done,\n",
        "                    agent, target_network,\n",
        "                    gamma=0.99,\n",
        "                    check_shapes=False,\n",
        "                    device=device):\n",
        "    \"\"\" Вычислите td функцию потерь, используя только операции PyTorch. Используйте формулы выше. \"\"\"\n",
        "    states = torch.tensor(states, device=device, dtype=torch.float)    # размер: [batch_size, *state_shape]\n",
        "    # print('S', states)\n",
        "\n",
        "    actions = torch.tensor(actions, device=device, dtype=torch.long)    # размер: [batch_size]\n",
        "    # print('A', actions)\n",
        "    rewards = torch.tensor(rewards, device=device, dtype=torch.float)  # размер: [batch_size]\n",
        "    # print('R', rewards)\n",
        "    # размер: [batch_size, *state_shape]\n",
        "    next_states = torch.tensor(next_states, device=device, dtype=torch.float)\n",
        "    # print(\"S'\", next_states)\n",
        "    is_done = torch.tensor(\n",
        "        is_done.astype('float32'),\n",
        "        device=device,\n",
        "        dtype=torch.float\n",
        "    )  # размер: [batch_size]\n",
        "    is_not_done = 1 - is_done\n",
        "    # print('done', is_not_done)\n",
        "\n",
        "    # получить q-values для всех действий в текущих состояниях\n",
        "    predicted_qvalues = agent(states)\n",
        "    # print('Q(s,a)', predicted_qvalues)\n",
        "\n",
        "    # вычислить q-values для всех действий в следующих состояниях\n",
        "    predicted_next_qvalues = target_network(next_states)\n",
        "    # print(\"Q(s',a')\", predicted_next_qvalues)\n",
        "\n",
        "    # выбрать q-values для соотоветствующих выбранных действий\n",
        "    predicted_qvalues_for_actions = predicted_qvalues[range(\n",
        "        len(actions)), actions]\n",
        "    # print('selected Q(s, a)', predicted_qvalues_for_actions)\n",
        "\n",
        "    # вычислить V*(next_states), используя предсказанные следующие q-values\n",
        "    next_state_values = torch.max(predicted_next_qvalues, dim=1)[0]\n",
        "\n",
        "    assert next_state_values.dim(\n",
        "    ) == 1 and next_state_values.shape[0] == states.shape[0], \"нужно предсказывать одно действие для состояния\"\n",
        "\n",
        "    # вычислить \"target q-values\" для функции потерь - то, что внутри квадратных скобок в формуле выше.\n",
        "    # в последнем состоянии использовать упрощённую формулу: Q(s,a) = r(s,a) так как s' не существует\n",
        "    # Вы можете умножить следующие состояния на is_not_done для достижения этого.\n",
        "    target_qvalues_for_actions = rewards + gamma*next_state_values*is_not_done\n",
        "\n",
        "    # среднеквадратическая функция потерь для минимизации\n",
        "\n",
        "    assert predicted_qvalues_for_actions.shape == target_qvalues_for_actions.shape\n",
        "\n",
        "    loss = torch.mean((predicted_qvalues_for_actions -\n",
        "                       target_qvalues_for_actions.detach()) ** 2)\n",
        "    # print('loss vector', (predicted_qvalues_for_actions -\n",
        "    #                   target_qvalues_for_actions.detach()) ** 2)\n",
        "    # print('loss', loss)\n",
        "\n",
        "    if check_shapes:\n",
        "        assert predicted_next_qvalues.data.dim(\n",
        "        ) == 2, \"убедитесь, что Вы предсказали все q-values для всех действий в следующих состояниях\"\n",
        "        assert next_state_values.data.dim(\n",
        "        ) == 1, \"убедитесь, что Вы вычислили V(s') как максимум по оси действий в тензоре, а не по всем осям\"\n",
        "        assert target_qvalues_for_actions.data.dim(\n",
        "        ) == 1, \"что-то не то с целевыми q-values, они должны быть вектором\"\n",
        "\n",
        "    return loss"
      ]
    },
    {
      "cell_type": "markdown",
      "metadata": {
        "id": "uHWBqGb5Ppnf"
      },
      "source": [
        "Проверка корректности реализации"
      ]
    },
    {
      "cell_type": "code",
      "execution_count": 36,
      "metadata": {
        "id": "X_5n1z9uPpnf"
      },
      "outputs": [],
      "source": [
        "obs_batch, act_batch, reward_batch, next_obs_batch, is_done_batch = exp_replay.sample(\n",
        "    10\n",
        ")\n",
        "\n",
        "loss = compute_td_loss(\n",
        "    obs_batch,\n",
        "    act_batch,\n",
        "    reward_batch,\n",
        "    next_obs_batch,\n",
        "    is_done_batch,\n",
        "    agent,\n",
        "    target_network,\n",
        "    gamma=0.99,\n",
        "    check_shapes=True,\n",
        ")\n",
        "loss.backward()\n",
        "\n",
        "assert (\n",
        "    loss.requires_grad and tuple(loss.data.size()) == ()\n",
        "), \"Вы должны вернуть скаляр значения функции потерь - среднее по батчу.\"\n",
        "assert np.any(\n",
        "    next(agent.parameters()).grad.data.cpu().numpy() != 0\n",
        "), \"Функция потерь должна быть дифференцируема относительно весов сети.\"\n",
        "assert np.all(\n",
        "    next(target_network.parameters()).grad is None\n",
        "), \"Целевая сеть не должна быть дифференцируемой.\""
      ]
    },
    {
      "cell_type": "markdown",
      "metadata": {
        "id": "Vl-0RcIhPpnf"
      },
      "source": [
        "# Основной цикл\n",
        "\n",
        "Время собрать всё вместе и посмотреть, обучается ли что-нибудь."
      ]
    },
    {
      "cell_type": "code",
      "execution_count": 26,
      "metadata": {
        "id": "LxnnI-JhPpnf"
      },
      "outputs": [],
      "source": [
        "from tqdm import trange\n",
        "from IPython.display import clear_output\n",
        "import matplotlib.pyplot as plt"
      ]
    },
    {
      "cell_type": "code",
      "execution_count": 27,
      "metadata": {
        "colab": {
          "base_uri": "https://localhost:8080/"
        },
        "id": "dNs2bV8KPpnf",
        "outputId": "59d304f2-3aea-43f1-b711-1f31ce5e14d2"
      },
      "outputs": [
        {
          "output_type": "execute_result",
          "data": {
            "text/plain": [
              "<torch._C.Generator at 0x7e518e86f750>"
            ]
          },
          "metadata": {},
          "execution_count": 27
        }
      ],
      "source": [
        "seed = 1488\n",
        "random.seed(seed)\n",
        "np.random.seed(seed)\n",
        "torch.manual_seed(seed)"
      ]
    },
    {
      "cell_type": "code",
      "execution_count": 28,
      "metadata": {
        "colab": {
          "base_uri": "https://localhost:8080/"
        },
        "id": "Je_sU80gPpnf",
        "outputId": "869f64b2-642d-4e13-e0ad-ca3075457528"
      },
      "outputs": [
        {
          "output_type": "stream",
          "name": "stderr",
          "text": [
            "/usr/local/lib/python3.10/dist-packages/gym/core.py:317: DeprecationWarning: \u001b[33mWARN: Initializing wrapper in old step API which returns one bool instead of two. It is recommended to set `new_step_api=True` to use new step API. This will be the default behaviour in future.\u001b[0m\n",
            "  deprecation(\n",
            "/usr/local/lib/python3.10/dist-packages/gym/wrappers/step_api_compatibility.py:39: DeprecationWarning: \u001b[33mWARN: Initializing environment in old step API which returns one bool instead of two. It is recommended to set `new_step_api=True` to use new step API. This will be the default behaviour in future.\u001b[0m\n",
            "  deprecation(\n",
            "/usr/local/lib/python3.10/dist-packages/gym/core.py:256: DeprecationWarning: \u001b[33mWARN: Function `env.seed(seed)` is marked as deprecated and will be removed in the future. Please use `env.reset(seed=seed)` instead.\u001b[0m\n",
            "  deprecation(\n"
          ]
        },
        {
          "output_type": "execute_result",
          "data": {
            "text/plain": [
              "<All keys matched successfully>"
            ]
          },
          "metadata": {},
          "execution_count": 28
        }
      ],
      "source": [
        "env = make_env(seed)\n",
        "state_dim = env.observation_space.shape\n",
        "n_actions = env.action_space.n\n",
        "state = env.reset()\n",
        "\n",
        "agent = DQNAgent(state_dim, n_actions, epsilon=1).to(device)\n",
        "target_network = DQNAgent(state_dim, n_actions, epsilon=1).to(device)\n",
        "target_network.load_state_dict(agent.state_dict())"
      ]
    },
    {
      "cell_type": "code",
      "execution_count": 37,
      "metadata": {
        "colab": {
          "base_uri": "https://localhost:8080/"
        },
        "id": "V9ftIAJ5Ppng",
        "outputId": "3228d281-7942-4bd3-b1a1-9a9a61d79d44"
      },
      "outputs": [
        {
          "output_type": "stream",
          "name": "stdout",
          "text": [
            "10000\n"
          ]
        }
      ],
      "source": [
        "exp_replay = ReplayBuffer(10**4)\n",
        "for i in range(100):\n",
        "    if not utils.is_enough_ram(min_available_gb=0.1):\n",
        "        print(\n",
        "            \"\"\"\n",
        "            Меньше, чем 100 Mb RAM, доступно.\n",
        "            Убедитесь, что размер буфера не слишком большой.\n",
        "            Также проверьте, может, другие процессы потребляют сильно много RAM.\n",
        "            \"\"\"\n",
        "        )\n",
        "        break\n",
        "    play_and_record(state, agent, env, exp_replay, n_steps=10**2)\n",
        "    if len(exp_replay) == 10**4:\n",
        "        break\n",
        "print(len(exp_replay))"
      ]
    },
    {
      "cell_type": "code",
      "execution_count": 30,
      "metadata": {
        "id": "1y_RShJjPpng"
      },
      "outputs": [],
      "source": [
        "timesteps_per_epoch = 100\n",
        "batch_size = 42\n",
        "total_steps = 3 * 10**4\n",
        "decay_steps = 1 * 10**4\n",
        "\n",
        "opt = torch.optim.RMSprop(agent.parameters(), lr=1e-3)\n",
        "opt.zero_grad()\n",
        "\n",
        "init_epsilon = 1\n",
        "final_epsilon = 0.1\n",
        "\n",
        "loss_freq = 20\n",
        "refresh_target_network_freq = 100\n",
        "eval_freq = 1000\n",
        "\n",
        "max_grad_norm = 10\n",
        "gamma = 0.99"
      ]
    },
    {
      "cell_type": "code",
      "execution_count": 31,
      "metadata": {
        "colab": {
          "base_uri": "https://localhost:8080/"
        },
        "id": "1CGSlAWwPpng",
        "outputId": "95e4b231-7c3c-4532-aa61-6aaf167accdc"
      },
      "outputs": [
        {
          "output_type": "stream",
          "name": "stderr",
          "text": [
            "/usr/local/lib/python3.10/dist-packages/ipykernel/ipkernel.py:283: DeprecationWarning: `should_run_async` will not call `transform_cell` automatically in the future. Please pass the result to `transformed_cell` argument and any exception that happen during thetransform in `preprocessing_exc_tuple` in IPython 7.17 and above.\n",
            "  and should_run_async(code)\n"
          ]
        }
      ],
      "source": [
        "mean_rw_history = []\n",
        "td_loss_history = []\n",
        "grad_norm_history = []\n",
        "initial_state_v_history = []"
      ]
    },
    {
      "cell_type": "code",
      "execution_count": 38,
      "metadata": {
        "colab": {
          "base_uri": "https://localhost:8080/",
          "height": 629
        },
        "id": "wvdQpwXoPpng",
        "outputId": "35f8cb2a-1a6f-43ca-d4e5-10fbbb21a2dc"
      },
      "outputs": [
        {
          "output_type": "display_data",
          "data": {
            "text/plain": [
              "<Figure size 1600x900 with 4 Axes>"
            ],
            "image/png": "[encoded data removed]"
          },
          "metadata": {}
        },
        {
          "output_type": "stream",
          "name": "stderr",
          "text": [
            "100%|██████████| 30001/30001 [22:20<00:00, 22.38it/s]\n"
          ]
        }
      ],
      "source": [
        "state = env.reset()\n",
        "for step in trange(total_steps + 1):\n",
        "    if not utils.is_enough_ram():\n",
        "        print('Меньше, чем 100 Mb RAM, доступно, заморозка процедуры обучения')\n",
        "        print('убедитесь, что всё в порядке и пошлите сигнал KeyboardInterrupt для продолжения')\n",
        "        try:\n",
        "            while True:\n",
        "                pass\n",
        "        except KeyboardInterrupt:\n",
        "            pass\n",
        "\n",
        "    agent.epsilon = utils.linear_decay(init_epsilon, final_epsilon, step, decay_steps)\n",
        "\n",
        "    # игра\n",
        "    _, state = play_and_record(state, agent, env, exp_replay, timesteps_per_epoch)\n",
        "\n",
        "    # обучение\n",
        "    states, actions, rewards, next_states, is_done = exp_replay.sample(batch_size)\n",
        "    loss = compute_td_loss(states, actions, rewards, next_states, is_done, agent, target_network, gamma)\n",
        "\n",
        "    loss.backward()\n",
        "    grad_norm = nn.utils.clip_grad_norm_(agent.parameters(), max_grad_norm).item()\n",
        "    opt.step()\n",
        "    opt.zero_grad()\n",
        "\n",
        "    if step % loss_freq == 0:\n",
        "        td_loss_history.append(loss.data.cpu().item())\n",
        "        grad_norm_history.append(grad_norm)\n",
        "\n",
        "    if step % refresh_target_network_freq == 0:\n",
        "        target_network.load_state_dict(agent.state_dict())\n",
        "\n",
        "    if step % eval_freq == 0:\n",
        "        # Оценка агента\n",
        "        mean_rw_history.append(evaluate(\n",
        "            make_env(seed=step), agent, n_games=3, greedy=True, t_max=1000)\n",
        "        )\n",
        "        initial_state_q_values = agent.get_qvalues(\n",
        "            [make_env(seed=step).reset()]\n",
        "        )\n",
        "        initial_state_v_history.append(np.max(initial_state_q_values))\n",
        "\n",
        "        print(\"размер буфера = %i, epsilon = %.5f\" %\n",
        "              (len(exp_replay), agent.epsilon))\n",
        "\n",
        "        plt.figure(figsize=[16, 9])\n",
        "        plt.subplot(2, 2, 1)\n",
        "        plt.title(\"Средняя награда за эпизод\")\n",
        "        plt.plot(mean_rw_history)\n",
        "        plt.grid()\n",
        "\n",
        "        assert not np.isnan(td_loss_history[-1])\n",
        "        plt.subplot(2, 2, 2)\n",
        "        plt.title(\"История TD функции потерь (сглаженная)\")\n",
        "        plt.plot(utils.smoothen(td_loss_history))\n",
        "        plt.grid()\n",
        "\n",
        "        plt.subplot(2, 2, 3)\n",
        "        plt.title(\"Ценность начального состояния\")\n",
        "        plt.plot(initial_state_v_history)\n",
        "        plt.grid()\n",
        "\n",
        "        plt.subplot(2, 2, 4)\n",
        "        plt.title(\"История нормы градиента (сглаженная)\")\n",
        "        plt.plot(utils.smoothen(grad_norm_history))\n",
        "        plt.grid()\n",
        "\n",
        "        clear_output(True)\n",
        "        plt.show()"
      ]
    },
    {
      "cell_type": "code",
      "execution_count": 39,
      "metadata": {
        "colab": {
          "base_uri": "https://localhost:8080/"
        },
        "id": "jSsd8vmlPpng",
        "outputId": "6936797e-186f-43c7-bd5c-981053998cb1"
      },
      "outputs": [
        {
          "output_type": "stream",
          "name": "stdout",
          "text": [
            "финальный счёт: 1000.0\n",
            "Отлично справились\n"
          ]
        }
      ],
      "source": [
        "final_score = evaluate(make_env(), agent, n_games=30, greedy=True, t_max=1000)\n",
        "print(\"финальный счёт:\", final_score)\n",
        "assert final_score > 300, \"недостаточно хорошо для DQN\"\n",
        "print(\"Отлично справились\")"
      ]
    },
    {
      "cell_type": "markdown",
      "metadata": {
        "id": "5M6rxW-4Ppng"
      },
      "source": [
        "# Запись видео"
      ]
    },
    {
      "cell_type": "markdown",
      "metadata": {
        "id": "lWfpAxwSPpnk"
      },
      "source": [
        "### Код записи видео (Спасибо Никите Киселёву)"
      ]
    },
    {
      "cell_type": "code",
      "execution_count": 40,
      "metadata": {
        "id": "9pdtpe8fPpnk"
      },
      "outputs": [],
      "source": [
        "from gym.wrappers import RecordVideo\n",
        "import warnings\n",
        "warnings.filterwarnings('ignore')\n",
        "\n",
        "def evaluate_video(env, agent, greedy=False, t_max=10000):\n",
        "    \"\"\"Играет n_games полных эпизодов. Если greedy=True, то действия берутся из детерминированной\n",
        "    стратегии как argmax(qvalues). Возвращает среднюю награду.\"\"\"\n",
        "    # Создание объекта RecordVideo\n",
        "    name_prefix = \"non-greedy\" if greedy == False else \"greedy\"\n",
        "    record_video = RecordVideo(env, \"CartPole-v1/videos\", name_prefix=name_prefix)\n",
        "    s = record_video.reset()\n",
        "    reward = 0\n",
        "    for _ in range(t_max):\n",
        "        record_video.render('rgb_array')\n",
        "        qvalues = agent.get_qvalues([s])\n",
        "        action = (\n",
        "            qvalues.argmax(axis=-1)[0]\n",
        "            if greedy\n",
        "            else agent.sample_actions(qvalues)[0]\n",
        "        )\n",
        "        s, r, done, info = record_video.step(action)\n",
        "        reward += r\n",
        "        if done:\n",
        "            break\n",
        "    record_video.close()\n",
        "    return reward\n"
      ]
    },
    {
      "cell_type": "code",
      "execution_count": 41,
      "metadata": {
        "colab": {
          "base_uri": "https://localhost:8080/"
        },
        "id": "4ZS2LP5dPpnk",
        "outputId": "caf5a033-3d0e-4b15-e787-2f0dec04c256"
      },
      "outputs": [
        {
          "output_type": "execute_result",
          "data": {
            "text/plain": [
              "500.0"
            ]
          },
          "metadata": {},
          "execution_count": 41
        }
      ],
      "source": [
        "# Environment\n",
        "env = gym.make('CartPole-v1')\n",
        "\n",
        "# Creating a video\n",
        "evaluate_video(env, agent)"
      ]
    },
    {
      "cell_type": "code",
      "execution_count": 42,
      "metadata": {
        "colab": {
          "base_uri": "https://localhost:8080/",
          "height": 448
        },
        "id": "MCfaNP6sPpnk",
        "outputId": "665d2259-3f56-414b-cb35-baa21aecd47a"
      },
      "outputs": [
        {
          "output_type": "execute_result",
          "data": {
            "text/plain": [
              "<IPython.core.display.HTML object>"
            ],
            "text/html": [
              "\n",
              "<video width=640 heigh=480 controls>\n",
              "      <source src=\"data:video/mp4;base64,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\" type=\"video/mp4\">\n",
              "</video>\n"
            ]
          },
          "metadata": {},
          "execution_count": 42
        }
      ],
      "source": [
        "from base64 import b64encode\n",
        "import os\n",
        "\n",
        "# Input video path\n",
        "save_path = \"CartPole-v1/videos/non-greedy-episode-0.mp4\"\n",
        "\n",
        "# Compressed video path\n",
        "compressed_path = \"CartPole-v1/videos/non-greedy_compressed.mp4\"\n",
        "\n",
        "# Play video\n",
        "os.system(f\"ffmpeg -i {save_path} -vcodec libx264 {compressed_path}\")\n",
        "\n",
        "# Show video\n",
        "mp4 = open(compressed_path,'rb').read()\n",
        "data_url = \"data:video/mp4;base64,\" + b64encode(mp4).decode()\n",
        "HTML(\"\"\"\n",
        "<video width=640 heigh=480 controls>\n",
        "      <source src=\"%s\" type=\"video/mp4\">\n",
        "</video>\n",
        "\"\"\" % data_url)"
      ]
    }
  ],
  "metadata": {
    "kernelspec": {
      "display_name": "Python 2.7.17 64-bit",
      "language": "python",
      "name": "python3"
    },
    "language_info": {
      "codemirror_mode": {
        "name": "ipython",
        "version": 3
      },
      "file_extension": ".py",
      "mimetype": "text/x-python",
      "name": "python",
      "nbconvert_exporter": "python",
      "pygments_lexer": "ipython3",
      "version": "3.10.9"
    },
    "vscode": {
      "interpreter": {
        "hash": "f92b2924b84ff19c1c3dc485f7644d4486f64738191026bf8e6de303969141b5"
      }
    },
    "colab": {
      "provenance": []
    }
  },
  "nbformat": 4,
  "nbformat_minor": 0
}